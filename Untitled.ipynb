{
 "cells": [
  {
   "cell_type": "code",
   "execution_count": 1,
   "metadata": {},
   "outputs": [
    {
     "name": "stderr",
     "output_type": "stream",
     "text": [
      "/Users/meggraham/opt/anaconda3/lib/python3.8/site-packages/IPython/core/interactiveshell.py:3146: DtypeWarning: Columns (3,4,5,6,9,11,12,13,14,15,16,17,18,19,23,24,25,26,27,28,29,30,31,32,33,34,35,36,37,38,41,44,45,46,47,48,49,50,51,52,53,54,55,56,57,58,59,60,61,62,63,64,65,66,67,68,69,70,71,72,73,74,75,76,77,78,79,80,81,82,83,84,85,89,90,92,93,94,95,96,97,98,99,100,101,102,103,104,105,106,107,108,109,110,111,112,113,114,115,116,117,118,119,124,127,128,131,134,136,139,140,141,142,143,144,145,146,147,148,153,157,160,162,163,164,165,166,167,168,170,171,172,175,176,177,178,179,180,181,182,183,184,186,187,188,189,190,191,192,194,195,196,198,199,200,201,202,203,204,205,206,207,208,209,210,211,212,213,214,215,216,217,218,219,220,221,222,223,224,225,226,227,228,229,230,231,232,233,234,235,236,237,238,239,240,241,242,243,244,245,246,247,248,249,250,251,252,253,254,255,256,257,258,259,260,261,262,263,264,265,266,267,268,269,270,271,272,273,274,275,276,277,278,279,280,281,282,283,284,285,286,287,288,289,290,291,292,293,294,295,296,297,298,299,300,301,302,303,304,305,306,307,308,309,310,311,312,313,314,315,316,317,318,319,320,321,322,323,324,325,326,327,328,329,330,331,332,333,334,335,336,337,338) have mixed types.Specify dtype option on import or set low_memory=False.\n",
      "  has_raised = await self.run_ast_nodes(code_ast.body, cell_name,\n"
     ]
    }
   ],
   "source": [
    "import csv\n",
    "import pandas as pd\n",
    "#RFL_TOP_1\n",
    "#RFC_TOP_1\n",
    "\n",
    "df = pd.read_csv(\"pp.csv\")\n",
    "df1 = pd.read_csv(\"pp.csv\")\n",
    "# df2 = pd.read_csv(\"pp.csv\")\n",
    "\n",
    "# df2 = df2[['ResponseId', 'wave_date' , 'EndDate', 'MONTH', 'YEAR']]\n",
    "df = df[['ResponseId', 'Q_RFL_AIDED', 'Q_TOP_3_RFL_0_1_RANK',\t'Q_TOP_3_RFL_0_2_RANK',\t'Q_TOP_3_RFL_0_3_RANK',\t'Q_TOP_3_RFL_0_4_RANK',\t'Q_TOP_3_RFL_0_5_RANK'\t,'Q_TOP_3_RFL_0_6_RANK','Q_TOP_3_RFL_0_7_RANK',\t'Q_TOP_3_RFL_0_8_RANK',\t'Q_TOP_3_RFL_0_9_RANK',\t'Q_TOP_3_RFL_0_10_RANK',\t'Q_TOP_3_RFL_0_11_RANK',\t'Q_TOP_3_RFL_0_12_RANK',\t'Q_TOP_3_RFL_0_13_RANK',\t'Q_TOP_3_RFL_0_14_RANK',\t'Q_TOP_3_RFL_0_15_RANK',\t'Q_TOP_3_RFL_0_16_RANK',\t'Q_TOP_3_RFL_0_17_RANK',\t'Q_TOP_3_RFL_0_18_RANK',\t'Q_TOP_3_RFL_0_19_RANK',\t'Q_TOP_3_RFL_0_20_RANK','Q_TOP_3_RFL_0_21_RANK','Q_TOP_3_RFL_0_22_RANK',\n",
    "         'Q_TOP_3_RFL_0_23_RANK','Q_TOP_3_RFL_0_24_RANK', 'Q_TOP_3_RFL_0_25_RANK', 'wave_date', 'RecipientFirstName']]\n",
    "\n",
    "df1 = df1[['ResponseId','Q_RFC_AIDED', 'Q_TOP_3_RFC_0_1_RANK','Q_TOP_3_RFC_0_2_RANK', 'Q_TOP_3_RFC_0_3_RANK',\t'Q_TOP_3_RFC_0_4_RANK',\t'Q_TOP_3_RFC_0_5_RANK',\t'Q_TOP_3_RFC_0_6_RANK',\n",
    "         'Q_TOP_3_RFC_0_7_RANK', 'Q_TOP_3_RFC_0_8_RANK','Q_TOP_3_RFC_0_9_RANK','Q_TOP_3_RFC_0_10_RANK','Q_TOP_3_RFC_0_11_RANK','Q_TOP_3_RFC_0_12_RANK',\t'Q_TOP_3_RFC_0_13_RANK',\n",
    "         'Q_TOP_3_RFC_0_14_RANK','Q_TOP_3_RFC_0_15_RANK','Q_TOP_3_RFC_0_16_RANK','Q_TOP_3_RFC_0_17_RANK','Q_TOP_3_RFC_0_18_RANK','Q_TOP_3_RFC_0_19_RANK','Q_TOP_3_RFC_0_20_RANK', 'wave_date', 'RecipientFirstName']]\n",
    "\n",
    "# df2.to_csv(\"pp_date.csv\")\n",
    "# RFL_attributes = ['The monthly price was too expensive', 'I was paying for things I didn’t really need (e.g. too much data)', 'The price of my existing plan increased', 'I wanted to have all my telecom products under one provider', 'The promotional price period was ending','I kept having to haggle over price with them', 'The plans were too confusing',\n",
    "#                  'They stopped honouring my older contract I had with them', 'I was getting errors in my bill(s)', 'I was getting hidden fees in my bill(s)', 'My bills were confusing', 'I was getting slow data speeds', 'I was not getting a consistently strong signal on my phone', \n",
    "#                  'My calls were being dropped or had spotty reception', 'They didn’t have the phone I wanted', 'The phone I wanted was out of stock with them', 'Their phones were too expensive', 'Their phone financing options were too confusing', \n",
    "#                  'I had a poor customer service experience', 'They don’t appreciate my customer loyalty/tenure', 'I am out of the country', 'I no longer need a phone plan', 'I couldn’t afford the costs of the phone', 'Other', \"Don't know\"]\n",
    "\n",
    "# RFC_attributes = ['I got a better price than my previous plan','I got better value than my previous plan','I wanted to have all my telecom products under one provider','I got a discount because I was added as an extra line to an existing account',\n",
    "#                  'They offered a special, lower rate because of where I work','I wanted to move to a pre-paid plan','I got a refer-a-friend discount', 'They have a faster network', 'They have a bigger network',\n",
    "#                 'Their network is more reliable', 'They have a 5G network', 'They were offering the phone I wanted', 'They offered a discount on the phone I wanted', 'Their phone financing options made it easier for me to pay for my phone', 'They have good customer service','Access to a membership or rewards program','Included protection from data overage charges',\n",
    "#                  'They delivered the phone directly to my home', 'Other (please specify)', \"Don't know\"]\n",
    "\n",
    "df.to_csv(\"pp_rfl.csv\")\n",
    "df1.to_csv(\"pp_rfc.csv\")\n",
    "\n",
    "# df2.to_csv(\"ppdates.csv\")"
   ]
  },
  {
   "cell_type": "code",
   "execution_count": null,
   "metadata": {},
   "outputs": [],
   "source": []
  },
  {
   "cell_type": "code",
   "execution_count": null,
   "metadata": {},
   "outputs": [],
   "source": []
  },
  {
   "cell_type": "code",
   "execution_count": null,
   "metadata": {},
   "outputs": [],
   "source": []
  },
  {
   "cell_type": "code",
   "execution_count": null,
   "metadata": {},
   "outputs": [],
   "source": []
  },
  {
   "cell_type": "code",
   "execution_count": null,
   "metadata": {},
   "outputs": [],
   "source": []
  }
 ],
 "metadata": {
  "kernelspec": {
   "display_name": "Python 3",
   "language": "python",
   "name": "python3"
  },
  "language_info": {
   "codemirror_mode": {
    "name": "ipython",
    "version": 3
   },
   "file_extension": ".py",
   "mimetype": "text/x-python",
   "name": "python",
   "nbconvert_exporter": "python",
   "pygments_lexer": "ipython3",
   "version": "3.8.5"
  }
 },
 "nbformat": 4,
 "nbformat_minor": 4
}
